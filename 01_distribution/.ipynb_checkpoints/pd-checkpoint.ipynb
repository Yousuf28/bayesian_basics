{
 "cells": [
  {
   "cell_type": "code",
   "execution_count": null,
   "id": "50ab578a",
   "metadata": {
    "vscode": {
     "languageId": "r"
    }
   },
   "outputs": [],
   "source": [
    "---\n",
    "title: \"Probability Distribution\"\n",
    "author: \"Yousuf Ali\"\n",
    "date: \"5/21/2018\"\n",
    "output: html_document\n",
    "---"
   ]
  },
  {
   "cell_type": "code",
   "execution_count": null,
   "id": "61b35d91",
   "metadata": {
    "lines_to_next_cell": 0,
    "name": "setup",
    "tags": [
     "remove_cell"
    ],
    "vscode": {
     "languageId": "r"
    }
   },
   "outputs": [],
   "source": [
    "knitr::opts_chunk$set(echo = TRUE)"
   ]
  },
  {
   "cell_type": "markdown",
   "id": "f035472c",
   "metadata": {},
   "source": [
    "\n",
    "\n"
   ]
  },
  {
   "cell_type": "markdown",
   "id": "d28e010f",
   "metadata": {},
   "source": [
    "### Binomial Distribution\n",
    "##### Bernoulli Distribution\n",
    "First example(coin) is for Bernoulli Distribution, and second example(die) is for Binomial distribution.\n",
    "\n",
    "Bernoulli Distribution is special case of binomial distribution, where only two outcome is possible: such as toss a coin, only outcome is either head or tail."
   ]
  },
  {
   "cell_type": "markdown",
   "id": "4170e782",
   "metadata": {},
   "source": [
    "n trial,   \n",
    "k successes, __(with replacement) __ \n",
    "fixed probability  \n",
    "\n",
    "$$PMF  :   {{n}\\choose{k}} \\cdot p^k(1-p)^{n-k}\n",
    "$$mean= np $$ \n",
    "$$variance= np(1-p)$$"
   ]
  },
  {
   "cell_type": "markdown",
   "id": "6b1f6def",
   "metadata": {},
   "source": [
    "__Question__: A coin tossed 8 times. Probability for getting head is 0.25, what is the probability that you will get exactly 5 head?\n",
    "\n",
    "n = 8 \n",
    "k = 5    \n",
    "p = 0.25  "
   ]
  },
  {
   "cell_type": "code",
   "execution_count": null,
   "id": "38db4dad",
   "metadata": {
    "lines_to_next_cell": 2,
    "vscode": {
     "languageId": "r"
    }
   },
   "outputs": [],
   "source": [
    "dbinom(5, size = 8, prob = .25)"
   ]
  },
  {
   "cell_type": "markdown",
   "id": "84e165dc",
   "metadata": {},
   "source": [
    " plot the distribution"
   ]
  },
  {
   "cell_type": "code",
   "execution_count": null,
   "id": "4a3be550",
   "metadata": {
    "vscode": {
     "languageId": "r"
    }
   },
   "outputs": [],
   "source": [
    "\n",
    "y <- dbinom(0:8, 8, .25)\n",
    "round(y, digits = 3)\n",
    "\n",
    "barplot(y, col = 'skyblue', names.arg = c(0:8))"
   ]
  },
  {
   "cell_type": "markdown",
   "id": "9ebaa35b",
   "metadata": {},
   "source": [
    "__Question:__ Probability of getting at most 3 head? (not more than 3 head)"
   ]
  },
  {
   "cell_type": "code",
   "execution_count": null,
   "id": "a6cde30c",
   "metadata": {
    "lines_to_next_cell": 2,
    "vscode": {
     "languageId": "r"
    }
   },
   "outputs": [],
   "source": [
    "sum(dbinom(0:3, 8, 0.25)) # sum the probability for 0,1,2,3.\n",
    "\n",
    "# or\n",
    "\n",
    "pbinom(3, 8, 0.25, lower.tail = TRUE)"
   ]
  },
  {
   "cell_type": "markdown",
   "id": "d4d4292e",
   "metadata": {},
   "source": [
    " __Question:__ Rolling a die for 15 times. what is the probability that you will get 3 exactly 8 times?  \n",
    " probability of getting 3 is: p = 1/6  \n",
    " n = 15  \n",
    " k = 8  "
   ]
  },
  {
   "cell_type": "code",
   "execution_count": null,
   "id": "f4898323",
   "metadata": {
    "lines_to_next_cell": 0,
    "vscode": {
     "languageId": "r"
    }
   },
   "outputs": [],
   "source": [
    "dbinom(8, 15, 1/6)"
   ]
  },
  {
   "cell_type": "markdown",
   "id": "20b7e7b4",
   "metadata": {},
   "source": [
    " #### plot the distribution  "
   ]
  },
  {
   "cell_type": "code",
   "execution_count": null,
   "id": "fcba5087",
   "metadata": {
    "lines_to_next_cell": 0,
    "vscode": {
     "languageId": "r"
    }
   },
   "outputs": [],
   "source": [
    "y <- dbinom(0:15, 15, 1/6)\n",
    "round(y, digits = 3)\n",
    "\n",
    "barplot(y, col = 'skyblue', names.arg = c(0:15))"
   ]
  },
  {
   "cell_type": "markdown",
   "id": "6a3b756f",
   "metadata": {},
   "source": []
  },
  {
   "cell_type": "markdown",
   "id": "9a12407d",
   "metadata": {},
   "source": [
    "### Geometric Distribution\n",
    "\n",
    "__Definition:__ Assume Bernoulli trials — that is,  \n",
    "(1) there are two possible outcomes,  \n",
    "(2) the trials are independent,  \n",
    "(3) p, the probability of success, remains the same from trial to trial.   \n",
    "Let k denote the number of trials until the first success.\n",
    "\n",
    "(k = number of fail before success)\n",
    "\n",
    "$$ PMF: (1-p)^{k-1}\\cdot{p}$$\n",
    "$$ mean = \\frac{1}{p}$$ \n",
    "\n",
    "$$ variance =\\frac {(1-p)}{p^2}$$\n",
    "\n",
    "__Question:__ Products produced by a machine has a 3% defective rate.  \n",
    "What is the probability that the first defective occurs in the fifth item inspected?\n",
    "\n",
    "The convention in R is to record k as the number of failures that occur before the first success.\n",
    "\n",
    "success at fifth item so k= 4, \n",
    "prob = 0.03"
   ]
  },
  {
   "cell_type": "code",
   "execution_count": null,
   "id": "55d46552",
   "metadata": {
    "vscode": {
     "languageId": "r"
    }
   },
   "outputs": [],
   "source": [
    "dgeom(4, 0.03)"
   ]
  },
  {
   "cell_type": "markdown",
   "id": "92f75e01",
   "metadata": {},
   "source": [
    "__Question:__ What is the probability that the first defective occurs in the first five inspections?"
   ]
  },
  {
   "cell_type": "code",
   "execution_count": null,
   "id": "e108c19a",
   "metadata": {
    "vscode": {
     "languageId": "r"
    }
   },
   "outputs": [],
   "source": [
    "pgeom(4, 0.03)"
   ]
  },
  {
   "cell_type": "markdown",
   "id": "d29c86ef",
   "metadata": {},
   "source": [
    "__Question:__ a production line which has a 20% defective rate,  \n",
    "what is the minimum number of inspections, that would be necessary so that the probability of observing a defective is more that 75%?\n",
    "\n",
    "Choose k so that \n",
    "P(X ≤ k) ≥ .75"
   ]
  },
  {
   "cell_type": "code",
   "execution_count": null,
   "id": "d4d8717e",
   "metadata": {
    "vscode": {
     "languageId": "r"
    }
   },
   "outputs": [],
   "source": [
    "qgeom(0.75, 0.2)"
   ]
  },
  {
   "cell_type": "markdown",
   "id": "5844bb40",
   "metadata": {},
   "source": [
    "6 failures before first success.\n",
    "or with 7 inspections, there is at least a 75% chance of obtaining the first defective."
   ]
  },
  {
   "cell_type": "markdown",
   "id": "83780f36",
   "metadata": {},
   "source": [
    "__Question:__ A representative from the National Football League's Marketing Division randomly selects people on a random street in Kansas City, Kansas until he finds a person who attended the last home football game. Let p, the probability that he succeeds in finding such a person, equal 0.20. And, let k denote the number of people he selects until he finds his first success. What is the probability that the marketing representative must select 4 people before he finds one who attended the last home football game\n",
    "\n",
    "fourth person attended the game, so k = 3,   \n",
    "p = 0.20\n"
   ]
  },
  {
   "cell_type": "code",
   "execution_count": null,
   "id": "bc1785a1",
   "metadata": {
    "lines_to_next_cell": 0,
    "vscode": {
     "languageId": "r"
    }
   },
   "outputs": [],
   "source": [
    "dgeom(3, 0.2)"
   ]
  },
  {
   "cell_type": "markdown",
   "id": "1f46ec69",
   "metadata": {},
   "source": [
    "There is about a 10% chance that the marketing representative would have to select 4 people before he would find one who attended the last home football game."
   ]
  },
  {
   "cell_type": "markdown",
   "id": "932f8314",
   "metadata": {},
   "source": [
    "What is the probability that the marketing representative must select more than 6 people before he finds one who attended the last home football game?\n",
    " "
   ]
  },
  {
   "cell_type": "code",
   "execution_count": null,
   "id": "f5bbb15e",
   "metadata": {
    "lines_to_next_cell": 0,
    "vscode": {
     "languageId": "r"
    }
   },
   "outputs": [],
   "source": [
    "1-pgeom(5, 0.2)"
   ]
  },
  {
   "cell_type": "markdown",
   "id": "bfe50c2e",
   "metadata": {},
   "source": [
    "There is about a 26% chance that the marketing representative would have to select more than 6 people before he would find one who attended the last home football game.\n"
   ]
  },
  {
   "cell_type": "code",
   "execution_count": null,
   "id": "363099b6",
   "metadata": {
    "lines_to_next_cell": 0,
    "vscode": {
     "languageId": "r"
    }
   },
   "outputs": [],
   "source": [
    "y <- dgeom(0:10, prob = 0.2)\n",
    "round(y, digits = 3)\n",
    "\n",
    "barplot(y, col = 'skyblue', names.arg = c(0:10))"
   ]
  },
  {
   "cell_type": "code",
   "execution_count": null,
   "id": "10ef7d8f",
   "metadata": {
    "lines_to_next_cell": 0,
    "vscode": {
     "languageId": "r"
    }
   },
   "outputs": [],
   "source": [
    "y <- dgeom(0:10, prob = 0.5)\n",
    "round(y, digits = 3)\n",
    "x <- c(0:10)\n",
    "plot(x,y, type = \"h\", col='blue')"
   ]
  },
  {
   "cell_type": "markdown",
   "id": "9ba35632",
   "metadata": {},
   "source": []
  },
  {
   "cell_type": "markdown",
   "id": "9a475cf1",
   "metadata": {},
   "source": [
    "### Hypergeometric Distribution\n",
    "\n",
    "the hypergeometric distribution is a discrete probability distribution that describes the probability of k successes (random draws for which the object drawn has a specified feature) in  n draws, __without replacement__,  from a finite population of size N that contains exactly K objects with that feature, wherein each draw is either a success or a failure.\n",
    "In contrast, the binomial distribution describes the probability of k successes in  n draws with replacement.\n",
    "\n",
    "$$PMF  : \\frac{  {{K}\\choose{k}}{{N-K}\\choose{n-k}}}{{N}\\choose{n}} $$\n",
    "$$ mean = n \\frac{K}{N}$$\n",
    "\n",
    " N = Population   \n",
    " n =  sample or number of draw  \n",
    " K =  Number of success in population N  \n",
    " k = number of success came in the draw    \n",
    " N-K = failure  \n",
    " \n",
    "__Question:__ There are 52 cards in the deck. Find the probability of getting 1 red card out of two cards chosen randomly without replacement.\n",
    "\n",
    "total population, N = 52  \n",
    "sample population, n = 2  \n",
    "number of success in total population, K = 26  \n",
    "number of success in draws, k = 1\n",
    "\n",
    "the probability of getting one success will be,  \n",
    "$$ \\frac{  {{K}\\choose{k}}{{N-K}\\choose{n-k}}}{{N}\\choose{n}}$$\n",
    "$$  = \\frac{  {{26}\\choose{1}}{{52-26}\\choose{2-1}}}{{52}\\choose{2}}=0.5098039$$\n"
   ]
  },
  {
   "cell_type": "code",
   "execution_count": null,
   "id": "6bc9b7a2",
   "metadata": {
    "vscode": {
     "languageId": "r"
    }
   },
   "outputs": [],
   "source": [
    "dhyper(1,26,26,2)"
   ]
  },
  {
   "cell_type": "markdown",
   "id": "03d46cc3",
   "metadata": {},
   "source": [
    "__Question:__ Draw 6 cards from a deck without replacement.  \n",
    "What is the probability of getting two hearts?\n",
    "\n",
    "N = 52, total cards  \n",
    "K = 13, number of hearts  \n",
    "n = 6, draw  \n",
    "k = 2, number of success in draws  "
   ]
  },
  {
   "cell_type": "markdown",
   "id": "140b8adc",
   "metadata": {},
   "source": [
    "$$ \\frac{  {{13}\\choose{2}}{{52-13}\\choose{6-2}}}{{52}\\choose{6}}= 0.3151299$$\n"
   ]
  },
  {
   "cell_type": "code",
   "execution_count": null,
   "id": "122b4f44",
   "metadata": {
    "vscode": {
     "languageId": "r"
    }
   },
   "outputs": [],
   "source": [
    "# dhyper(k,K,(N-K), n)\n",
    "\n",
    "dhyper(2,13,(52-13),6) # both same \n",
    "dhyper(2,13,39,6)\n"
   ]
  },
  {
   "cell_type": "markdown",
   "id": "2d9b7346",
   "metadata": {},
   "source": [
    "__Question:__ probability of getting at most 2 hearts in the\n",
    "6 selected without replacement from a well shuffled deck?\n"
   ]
  },
  {
   "cell_type": "code",
   "execution_count": null,
   "id": "ffe5afdf",
   "metadata": {
    "lines_to_next_cell": 2,
    "vscode": {
     "languageId": "r"
    }
   },
   "outputs": [],
   "source": [
    "phyper(2,13,39,6) # Cumulative Distribution function"
   ]
  },
  {
   "cell_type": "markdown",
   "id": "e817017f",
   "metadata": {},
   "source": [
    "plot distribution"
   ]
  },
  {
   "cell_type": "code",
   "execution_count": null,
   "id": "245732c1",
   "metadata": {
    "lines_to_next_cell": 2,
    "vscode": {
     "languageId": "r"
    }
   },
   "outputs": [],
   "source": [
    "x <- 0:6\n",
    "plot(x, dhyper(x,13,39,6), type = \"h\", col=\"red\", ylab = 'pbobability', main = 'Hypergeometric Distribution')"
   ]
  },
  {
   "cell_type": "markdown",
   "id": "59f47621",
   "metadata": {},
   "source": [
    "### Negative binomial Distribution"
   ]
  },
  {
   "cell_type": "markdown",
   "id": "962d9f2b",
   "metadata": {},
   "source": [
    "Definition: Assume Bernoulli trials — that is,  \n",
    "(1) there are two possible outcomes,  \n",
    "(2) the trials are independent, and  \n",
    "(3) p, the probability of success, remains the same from trial to trial. Let n denote the number of trials until the $k^{th}$ success. Then, the probability mass function:\n",
    "\n",
    "[details in this link](https://onlinecourses.science.psu.edu/stat414/node/78/)\n",
    "changed to following from thewebsite  \n",
    "x=n  \n",
    "r=k  \n",
    "\n",
    "$$   {{n-1}\\choose{k-1}} \\cdot(1-p)^{(n-k)}\\cdot p^k$$\n",
    "$\\color{red}{\\text {A geometric distribution is a special case of a negative binomial distribution with k = 1.}}$\n",
    "\n",
    "$$mean = \\frac{k}{p}$$\n",
    "$$variance = \\frac{k(1-p)}{p^2}$$\n",
    "__question:__ An oil company conducts a geological study that indicates that an exploratory oil well should have a 20% chance of striking oil. What is the probability that the first strike comes on the third well drilled?\n",
    "\n",
    "k = 1  \n",
    "n = 3  \n",
    "p = 0.20  \n",
    "1-p = 0.80  \n",
    "\n",
    "$$   {{3-1}\\choose{1-1}} \\cdot(1-p)^{(3-1)}\\cdot p^1 = (0.8)^2\\times 0.20= 0.128$$"
   ]
  },
  {
   "cell_type": "markdown",
   "id": "ac23f9e4",
   "metadata": {},
   "source": [
    "__Q__ What is the probability that the third strike comes on the seventh well drilled?\n",
    "\n",
    "k = 3  \n",
    "n = 7  \n",
    "p = 0.20  \n",
    "1-p = 0.80 \n",
    "\n",
    "$$   {{7-1}\\choose{3-1}} \\cdot(1-p)^{(7-3)}\\cdot p^3 = {{6}\\choose{2}}(0.8)^4\\times 0.20^3= 0.049$$\n",
    "in R dnbinom function is used.\n"
   ]
  },
  {
   "cell_type": "markdown",
   "id": "a67dc57b",
   "metadata": {},
   "source": [
    "### Poisson Distribution  \n",
    "\n",
    "[link](http://www.r-tutor.com/elementary-statistics/probability-distributions/poisson-distribution)\n",
    "\n",
    "The Poisson distribution is the probability distribution of independent event occurrences in an interval. If λ is the mean occurrence per interval, then the probability of having k occurrences within a given interval is:  "
   ]
  },
  {
   "cell_type": "markdown",
   "id": "5c66e91b",
   "metadata": {},
   "source": [
    "$$= \\frac{e^{-\\lambda} \\lambda^k}{k!}$$ \n",
    "where λ = rate  \n",
    "k = occurance  \n",
    "__e__ = 2.71828  \n",
    "\n",
    "$$ mean = \\lambda$$\n",
    "$$ Variance = \\lambda$$"
   ]
  },
  {
   "cell_type": "markdown",
   "id": "b3af526a",
   "metadata": {
    "lines_to_next_cell": 0
   },
   "source": [
    "__Question__ If there are 12 cars crossing a bridge per minute on average, find the probability of having 17 car crossing the bridge in a particular minute.\n",
    "Here,  \n",
    "\n",
    "λ = 12   \n",
    "k = 17 \n",
    "\n",
    "$$= \\frac{2.718^{-12} \\times12^{17}}{17!}= 0.0383$$ "
   ]
  },
  {
   "cell_type": "code",
   "execution_count": null,
   "id": "f28b628e",
   "metadata": {
    "lines_to_next_cell": 2,
    "vscode": {
     "languageId": "r"
    }
   },
   "outputs": [],
   "source": [
    "dpois(17, 12)"
   ]
  },
  {
   "cell_type": "markdown",
   "id": "1a4237c4",
   "metadata": {},
   "source": [
    "__Question__ If there are 12 cars crossing a bridge per minute on average, find the probability of having 17 or more cars crossing the bridge in a particular minute.\n",
    "λ = 12   \n",
    "k = 16 # since we need 17 or more, so upto 16 has been substracted.\n"
   ]
  },
  {
   "cell_type": "code",
   "execution_count": null,
   "id": "250306f2",
   "metadata": {
    "lines_to_next_cell": 2,
    "vscode": {
     "languageId": "r"
    }
   },
   "outputs": [],
   "source": [
    "1-ppois(16,12) # or \n",
    "\n",
    "ppois(16, 12, lower.tail = FALSE)"
   ]
  },
  {
   "cell_type": "markdown",
   "id": "541de5fd",
   "metadata": {},
   "source": [
    "now plot  "
   ]
  },
  {
   "cell_type": "code",
   "execution_count": null,
   "id": "4596bf54",
   "metadata": {
    "lines_to_next_cell": 0,
    "vscode": {
     "languageId": "r"
    }
   },
   "outputs": [],
   "source": [
    "x <- 0:30\n",
    "plot(x, dpois(x, 12), type = \"h\", col=\"blue\", ylab = 'pbobability', main = 'Poisson Distribution')"
   ]
  },
  {
   "cell_type": "markdown",
   "id": "7b83633a",
   "metadata": {},
   "source": [
    "\n",
    "\n"
   ]
  },
  {
   "cell_type": "code",
   "execution_count": null,
   "id": "9c66eb36",
   "metadata": {
    "echo": true,
    "lines_to_next_cell": 2,
    "message": false,
    "vscode": {
     "languageId": "r"
    },
    "warning": false
   },
   "outputs": [],
   "source": [
    "library(tidyverse)\n",
    "x <- 0:30\n",
    "y <- dpois(x,12)\n",
    "z <- cbind(x,y)\n",
    "z <- data.frame(z)\n",
    "z$x <- as.factor(z$x)\n",
    "\n",
    "ggplot(data = z, aes(y=y, x=x))+\n",
    "    geom_bar(stat = 'identity', fill= \"skyblue\")\n",
    "  "
   ]
  },
  {
   "cell_type": "markdown",
   "id": "2244160f",
   "metadata": {},
   "source": [
    "__Question__ number of typos on a printed page with a mean of 3 typos per page. What is the probability that a randomly selected page has at most one typo on it?\n",
    "[link](https://onlinecourses.science.psu.edu/stat414/node/82/)\n"
   ]
  },
  {
   "cell_type": "code",
   "execution_count": null,
   "id": "db7c9b21",
   "metadata": {
    "vscode": {
     "languageId": "r"
    }
   },
   "outputs": [],
   "source": [
    "ppois(1,3) # \n",
    "\n",
    "sum(dpois(0:1, 3))"
   ]
  },
  {
   "cell_type": "markdown",
   "id": "dcc28672",
   "metadata": {},
   "source": [
    "Now plot\n",
    "\n",
    "\n",
    "\n",
    "\n"
   ]
  },
  {
   "cell_type": "markdown",
   "id": "3f7c4491",
   "metadata": {},
   "source": [
    "### Normal Distribution\n",
    "\n"
   ]
  },
  {
   "cell_type": "markdown",
   "id": "56c06f4d",
   "metadata": {},
   "source": [
    "### Exponential Distribution\n",
    "\n",
    "the exponential distribution (also known as negative exponential distribution) is the probability distribution that describes the time between events in a Poisson point process, i.e., a process in which events occur continuously and independently at a constant average rate. It is a particular case of the gamma distribution. It is the continuous analogue of the geometric distribution, and it has the key property of being memoryless. In addition to being used for the analysis of Poisson point processes it is found in various other contexts. (wiki)\n",
    "\n",
    "$$={e^{-\\lambda{k}} \\cdot \\lambda}$$ \n",
    "\n",
    "$$mean =\\frac{1}{ \\lambda}=(\\beta)=(\\theta)$$ \n",
    "\n",
    "$$variance =\\frac{1}{ \\lambda^2}= (\\beta^2)$$ \n"
   ]
  },
  {
   "cell_type": "markdown",
   "id": "d05012c5",
   "metadata": {},
   "source": [
    "Suppose X, following an (approximate) Poisson process, equals the number of customers arriving at a bank in an interval of length 1. If λ, the mean number of customers arriving in an interval of length 1, is 6, say, then we might observe something like this:\n",
    "\n",
    "<img src=\"exponential.png\" />  \n",
    "\n",
    "[details](https://onlinecourses.science.psu.edu/stat414/node/138/)\n",
    "\n",
    "In this particular representation, seven (7) customers arrived in the unit interval. Previously, our focus would have been on the discrete random variable X, the number of customers arriving. As the picture suggests, however, we could alternatively be interested in the continuous random variable W, the waiting time until the first customer arrives. Let's push this a bit further to see if we can find F(w), the cumulative distribution function of W:\n",
    "\n",
    "If λ (the Greek letter \"lambda\") equals the mean number of events in an interval, and θ (the Greek letter \"theta\") equals the mean waiting time until the first customer arrives, then:\n",
    "\n",
    "$$\\theta= \\frac{1}{\\lambda}$$ and $$\\lambda= \\frac{1}{\\theta}$$\n",
    "\n",
    "For example, suppose the mean number of customers to arrive at a bank in a 1-hour interval is 10. Then, the average (waiting) time until the first customer is 1/10 of an hour, or 6 minutes. \n",
    "\n",
    "Let's now formally define the probability density function we have just derived."
   ]
  },
  {
   "cell_type": "markdown",
   "id": "2b548d73",
   "metadata": {},
   "source": [
    "$$ = \\frac{1}{\\theta}\\cdot{e^{-x/\\theta}} = \\lambda\\cdot{e^{-x\\lambda}}$$"
   ]
  },
  {
   "cell_type": "markdown",
   "id": "f80b04b0",
   "metadata": {},
   "source": [
    "__question__ Students arrive at a local bar and restaurant according to an approximate Poisson process at a mean rate of 30 students per hour. What is the probability that the bouncer has to wait more than 3 minutes to card the next student?\n",
    "\n",
    "__question__  The number of miles that a particular car can run before its battery wears out is exponentially distributed with an average of 10,000 miles. The owner of the car needs to take a 5000-mile trip. What is the probability that he will be able to complete the trip without having to replace the car battery?"
   ]
  },
  {
   "cell_type": "markdown",
   "id": "c12218e3",
   "metadata": {},
   "source": [
    "[link](http://www.r-tutor.com/elementary-statistics/probability-distributions/exponential-distribution)\n",
    "\n",
    "he exponential distribution describes the arrival time of a randomly recurring independent event sequence. If μ is the mean waiting time for the next event recurrence, its probability density function is:\n"
   ]
  },
  {
   "cell_type": "markdown",
   "id": "d435fc50",
   "metadata": {},
   "source": [
    "\n",
    "$$ = \\frac{1}{\\mu}\\cdot{e^{-x/\\mu}}$$ when x=> 0"
   ]
  },
  {
   "cell_type": "markdown",
   "id": "5860ef9a",
   "metadata": {},
   "source": [
    "__question__ Suppose the mean checkout time of a supermarket cashier is three minutes. Find the probability of a customer checkout being completed by the cashier in less than two minutes.\n",
    "__solution__ \n",
    "The checkout processing rate is equals to one divided by the mean checkout completion time. Hence the processing rate is 1/3 checkouts per minute. We then apply the function pexp of the exponential distribution with rate=1/3."
   ]
  },
  {
   "cell_type": "code",
   "execution_count": null,
   "id": "677b4af2",
   "metadata": {
    "vscode": {
     "languageId": "r"
    }
   },
   "outputs": [],
   "source": [
    "pexp(2,rate = 1/3)"
   ]
  },
  {
   "cell_type": "markdown",
   "id": "8076d2cb",
   "metadata": {},
   "source": [
    "The probability of finishing a checkout in under two minutes by the cashier is 48.7%"
   ]
  },
  {
   "cell_type": "markdown",
   "id": "77024b6d",
   "metadata": {},
   "source": [
    "### Beta Distribution"
   ]
  },
  {
   "cell_type": "markdown",
   "id": "07e280d5",
   "metadata": {},
   "source": [
    "Definition 1: For the binomial distribution the number of successes x is the random variable and the number of trials n and the probability of success p on any single trial are parameters (i.e. constants).  \n",
    "Instead we would like to view the probability of success on any single trial as the random variable, and the number of trials n and the total number of successes in n trials as constants.  \n",
    "[link](http://www.real-statistics.com/binomial-and-related-distributions/beta-distribution/)\n",
    "\n",
    "Let,  \n",
    "α = # of successes in n trials and  \n",
    "β = # of failures in n trials (and so α + β = n).   \n",
    "The probability density function (pdf) for x = the probability of success on any single trial is given by"
   ]
  },
  {
   "cell_type": "markdown",
   "id": "43e3b3e4",
   "metadata": {},
   "source": [
    "$$ = x^{\\alpha-{1}}\\cdot(1-x)^{{\\beta}-{1}}\\cdot \\frac{(n-1)!}{(\\alpha-1)!\\times(\\beta-1)!}$$\n",
    "This is a special case of the beta function  \n",
    "\n",
    "$$ = x^{\\alpha-{1}}\\cdot(1-x)^{{\\beta}-{1}}\\cdot \\frac{\\Gamma(\\alpha+\\beta)}{\\Gamma\\alpha\\cdot \\Gamma\\beta}$$\n",
    "where $\\Gamma$  is the gamma function and $\\Gamma n= (n-1)!$"
   ]
  },
  {
   "cell_type": "markdown",
   "id": "b63a5f10",
   "metadata": {},
   "source": [
    "$$mean= \\frac{\\alpha}{\\alpha+\\beta}$$"
   ]
  },
  {
   "cell_type": "markdown",
   "id": "a33e6a02",
   "metadata": {},
   "source": [
    "__Question:__ A lottery organization claims that at least one out of every ten people wins. Of the last 500 lottery tickets sold 37 were winners. Based on this sample, what is the probability that the lottery organization’s claim is true: namely players have at least a 10% probability of buying a winning ticket? What is the 95% confidence interval?\n",
    "\n",
    "$\\alpha = 37$  \n",
    "$\\beta = 500-37 =463$  "
   ]
  },
  {
   "cell_type": "code",
   "execution_count": null,
   "id": "04f1446c",
   "metadata": {
    "lines_to_next_cell": 0,
    "vscode": {
     "languageId": "r"
    }
   },
   "outputs": [],
   "source": [
    "pbeta(.1, 37,463)\n",
    "1- pbeta(.1, 37, 463)"
   ]
  },
  {
   "cell_type": "markdown",
   "id": "1312d3a4",
   "metadata": {},
   "source": [
    "Thus the probability that the organization’s claim is true is 100% – 98.1% = 1.9%\n",
    "\n",
    "\n",
    "\n"
   ]
  },
  {
   "cell_type": "markdown",
   "id": "c3ba5ef1",
   "metadata": {},
   "source": [
    "### Gamma Distribution\n",
    "\n",
    "[link](http://www.real-statistics.com/other-key-distributions/gamma-distribution/)\n",
    "\n",
    "The gamma distribution has the same relationship to the Poisson distribution that the negative binomial distribution has to the binomial distribution.  \n",
    "We aren’t going to study the gamma distribution directly, but it is related to the exponential distribution and especially to the chi-square distribution"
   ]
  },
  {
   "cell_type": "markdown",
   "id": "2230629f",
   "metadata": {},
   "source": [
    "$$\\frac{x^{\\alpha-1}\\cdot e^{-x/{\\beta}}}{\\beta^{\\alpha}\\cdot\\Gamma(\\alpha)}$$\n",
    "__question:__  Suppose that sending a money order is a random event and that at a particular shop someone sends a money order on average every 15 minutes. What is the probability that the shop sends a total of 10 money orders in less than 3 hours?\n",
    "\n",
    " λ = 4  money order per hour.  \n",
    "Let x = the time to send 10 money orders and  \n",
    "let F(x) be the cumulative gamma distribution function with α = k = 10,    \n",
    "β = 1/λ = 0.25\n"
   ]
  },
  {
   "cell_type": "code",
   "execution_count": null,
   "id": "c628c403",
   "metadata": {
    "lines_to_next_cell": 0,
    "vscode": {
     "languageId": "r"
    }
   },
   "outputs": [],
   "source": []
  },
  {
   "cell_type": "markdown",
   "id": "627a638e",
   "metadata": {},
   "source": [
    " in excel, \n",
    " P(x<3) = F(3) = GAMMADIST(3, 10, .25, TRUE) = .7586\n",
    " \n",
    " and so the probability is 75.86%.  \n",
    " \n",
    " see also this [link](https://onlinecourses.science.psu.edu/stat414/node/144/)\n",
    "\n",
    "__question:__ Engineers designing the next generation of space shuttles plan to include two fuel pumps —one active, the other in reserve. If the primary pump malfunctions, the second is automatically brought on line. Suppose a typical mission is expected to require that fuel be pumped for at most 50 hours. According to the manufacturer's specifications, pumps are expected to fail once every 100 hours. What are the chances that such a fuel pump system would not remain functioning for the full 50 hours?\n"
   ]
  },
  {
   "cell_type": "markdown",
   "id": "c2795db8",
   "metadata": {},
   "source": [
    "### Cauchy Distribution\n",
    "\n",
    "\n"
   ]
  },
  {
   "cell_type": "markdown",
   "id": "4dc10245",
   "metadata": {},
   "source": [
    "### chi-squared "
   ]
  },
  {
   "cell_type": "markdown",
   "id": "c69e0cf1",
   "metadata": {},
   "source": [
    "The chi-square distribution with k degrees of freedom, abbreviated $\\chi^2(k)$, has probability density function\n",
    "\n",
    "$$\\frac{{x^{(k/2)-{1}}\\cdot e^{-x/{2}}}}  {{2^{k/2}\\cdot\\Gamma(k/2)}}$$\n",
    "The chi-square distribution is the gamma distribution where α = k/2 and β = 2."
   ]
  },
  {
   "cell_type": "markdown",
   "id": "b095899b",
   "metadata": {},
   "source": [
    "As df grows larger the fat part of the curve shifts to the right and becomes more like the graph of a normal distribution.\n"
   ]
  },
  {
   "cell_type": "markdown",
   "id": "0c748aae",
   "metadata": {},
   "source": [
    "Find the 95th percentile of the Chi-Squared distribution with 7 degrees of freedom.\n",
    "\n",
    "We apply the quantile function qchisq of the Chi-Squared distribution against the decimal values 0.95."
   ]
  },
  {
   "cell_type": "code",
   "execution_count": null,
   "id": "eab8cb92",
   "metadata": {
    "lines_to_next_cell": 0,
    "vscode": {
     "languageId": "r"
    }
   },
   "outputs": [],
   "source": [
    "qchisq(.95, df = 7)"
   ]
  },
  {
   "cell_type": "markdown",
   "id": "be840160",
   "metadata": {},
   "source": [
    "the 95th percentile of the Chi-Squared distribution with 7 degrees of freedom is 14.067.\n",
    "\n",
    "### Erlang Distribution\n",
    "\n",
    "### F distribution\n",
    "\n",
    "### Student's t distribution\n",
    "\n",
    "##### important link\n",
    "\n",
    "[stat 414](https://onlinecourses.science.psu.edu/stat414/node/89/)  \n",
    "[real-statistics](http://www.real-statistics.com/other-key-distributions/gamma-distribution/)  \n",
    "[r-tutor](http://www.r-tutor.com/elementary-statistics/probability-distributions)  "
   ]
  },
  {
   "cell_type": "markdown",
   "id": "12fdb382",
   "metadata": {},
   "source": [
    "A geometric distribution is a special case of a negative binomial distribution with k = 1.\n",
    "\n",
    "the exponential distribution (also known as negative exponential distribution) is the probability distribution that describes the time between events in a Poisson point process\n",
    "\n",
    "The gamma distribution has the same relationship to the Poisson distribution  \n",
    "that the negative binomial distribution has to the binomial distribution.\n",
    "\n",
    "The chi-square distribution is the gamma distribution where α = k/2 and β = 2.\n",
    "\n",
    "\n"
   ]
  }
 ],
 "metadata": {
  "jupytext": {
   "cell_metadata_filter": "tags,message,echo,warning,name,-all",
   "main_language": "R",
   "notebook_metadata_filter": "-all"
  },
  "kernelspec": {
   "display_name": "R",
   "language": "R",
   "name": "ir"
  },
  "language_info": {
   "codemirror_mode": "r",
   "file_extension": ".r",
   "mimetype": "text/x-r-source",
   "name": "R",
   "pygments_lexer": "r",
   "version": "4.1.2"
  }
 },
 "nbformat": 4,
 "nbformat_minor": 5
}
